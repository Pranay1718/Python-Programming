{
 "cells": [
  {
   "cell_type": "code",
   "execution_count": 6,
   "id": "f8cb56cb",
   "metadata": {},
   "outputs": [
    {
     "name": "stdout",
     "output_type": "stream",
     "text": [
      "t-test results:\n",
      "T-Stats: -3.6141765606455802\n",
      "P-Value: 0.0003222545643733536\n"
     ]
    },
    {
     "name": "stderr",
     "output_type": "stream",
     "text": [
      "/var/folders/99/8w5jn6md7lz79sb1_jx_1v080000gn/T/ipykernel_5341/3473582963.py:7: SettingWithCopyWarning: \n",
      "A value is trying to be set on a copy of a slice from a DataFrame.\n",
      "Try using .loc[row_indexer,col_indexer] = value instead\n",
      "\n",
      "See the caveats in the documentation: https://pandas.pydata.org/pandas-docs/stable/user_guide/indexing.html#returning-a-view-versus-a-copy\n",
      "  inactive_data['start_date'] = pd.to_datetime(inactive_data['visitDate'])\n",
      "/var/folders/99/8w5jn6md7lz79sb1_jx_1v080000gn/T/ipykernel_5341/3473582963.py:8: SettingWithCopyWarning: \n",
      "A value is trying to be set on a copy of a slice from a DataFrame.\n",
      "Try using .loc[row_indexer,col_indexer] = value instead\n",
      "\n",
      "See the caveats in the documentation: https://pandas.pydata.org/pandas-docs/stable/user_guide/indexing.html#returning-a-view-versus-a-copy\n",
      "  inactive_data['end_date'] = pd.to_datetime(inactive_data['endDate'])\n",
      "/var/folders/99/8w5jn6md7lz79sb1_jx_1v080000gn/T/ipykernel_5341/3473582963.py:10: SettingWithCopyWarning: \n",
      "A value is trying to be set on a copy of a slice from a DataFrame.\n",
      "Try using .loc[row_indexer,col_indexer] = value instead\n",
      "\n",
      "See the caveats in the documentation: https://pandas.pydata.org/pandas-docs/stable/user_guide/indexing.html#returning-a-view-versus-a-copy\n",
      "  inactive_data['months_active'] = ((inactive_data['end_date'] - inactive_data['start_date']) / pd.Timedelta(days=30)).astype(int)\n"
     ]
    }
   ],
   "source": [
    "import pandas as pd\n",
    "from scipy.stats import ttest_ind\n",
    "\n",
    "member_data = pd.read_csv(\"members.csv\")\n",
    "\n",
    "inactive_data = member_data.query(\"status == 'inactive'\")\n",
    "inactive_data['start_date'] = pd.to_datetime(inactive_data['visitDate'])\n",
    "inactive_data['end_date'] = pd.to_datetime(inactive_data['endDate'])\n",
    "\n",
    "inactive_data['months_active'] = ((inactive_data['end_date'] - inactive_data['start_date']) / pd.Timedelta(days=30)).astype(int)\n",
    "\n",
    "male_members = inactive_data[inactive_data['gender'] == 'M']['months_active']\n",
    "female_members = inactive_data[inactive_data['gender'] == 'F']['months_active']\n",
    "\n",
    "test_statistics, significance_value = ttest_ind(male_members, female_members)\n",
    "\n",
    "print(\"t-test results:\")\n",
    "print('T-Stats:', test_statistics)\n",
    "print('P-Value:', significance_value)"
   ]
  },
  {
   "cell_type": "code",
   "execution_count": 8,
   "id": "4478a59d",
   "metadata": {},
   "outputs": [
    {
     "name": "stdout",
     "output_type": "stream",
     "text": [
      "         Date    Open    High     Low   Close  AdjustedClose     Volume  \\\n",
      "0  2017-01-03  57.900  58.165  57.380  58.075         54.595  230255200   \n",
      "1  2017-01-04  57.925  58.255  57.875  58.010         54.534  168944800   \n",
      "2  2017-01-05  57.960  58.430  57.905  58.305         54.812  177548800   \n",
      "3  2017-01-06  58.390  59.080  58.235  58.955         55.423  254015200   \n",
      "4  2017-01-09  58.975  59.715  58.970  59.495         55.930  268495200   \n",
      "\n",
      "   daily_returns  \n",
      "0            NaN  \n",
      "1      -0.001117  \n",
      "2       0.005098  \n",
      "3       0.011147  \n",
      "4       0.009148  \n"
     ]
    },
    {
     "data": {
      "image/png": "[encoded data removed]",
      "text/plain": [
       "<Figure size 640x480 with 1 Axes>"
      ]
     },
     "metadata": {},
     "output_type": "display_data"
    },
    {
     "name": "stdout",
     "output_type": "stream",
     "text": [
      "Skewness: -0.1\n",
      "Kurtosis: 6.65\n",
      "Skewness test p-value: 0.1429\n",
      "Kurtosis test p-value: 0.0\n",
      "Standard Deviation: 0.019\n",
      "Outliers:\n",
      "           Date     Open     High      Low    Close  AdjustedClose     Volume  \\\n",
      "20   2017-02-01   63.515   65.245   63.505   64.375         60.518  895880000   \n",
      "397  2018-08-01   99.565  100.880   98.655  100.750         97.002  543485600   \n",
      "463  2018-11-02  104.775  106.825  102.715  103.740        100.231  730629600   \n",
      "498  2018-12-26   74.150   78.615   73.360   78.585         76.191  468660000   \n",
      "503  2019-01-03   71.990   72.860   71.000   71.095         68.930  730497600   \n",
      "521  2019-01-30   81.625   83.075   80.115   82.625         80.108  488878400   \n",
      "592  2019-05-13   93.855   94.740   91.425   92.860         90.766  459444800   \n",
      "792  2020-02-27  140.550  143.000  136.480  136.760        134.906  641211200   \n",
      "794  2020-03-02  141.140  150.720  138.860  149.405        147.380  682794400   \n",
      "799  2020-03-09  131.875  139.045  131.500  133.085        131.281  573489600   \n",
      "800  2020-03-10  138.570  143.220  134.685  142.670        140.736  570580000   \n",
      "802  2020-03-12  127.970  135.000  124.000  124.115        122.433  836948000   \n",
      "803  2020-03-13  132.445  139.960  126.475  138.985        137.101  741464000   \n",
      "804  2020-03-16  120.975  129.540  120.000  121.105        119.463  644847200   \n",
      "808  2020-03-20  123.590  125.915  114.000  114.620        113.066  803386400   \n",
      "810  2020-03-24  118.180  123.845  117.150  123.440        121.767  575062400   \n",
      "819  2020-04-06  125.450  131.555  124.690  131.235        129.456  403640800   \n",
      "900  2020-07-31  205.770  212.830  201.650  212.520        210.207  748673600   \n",
      "924  2020-09-03  253.820  257.680  241.000  241.760        239.560  515199200   \n",
      "926  2020-09-08  227.900  237.980  225.360  225.640        223.586  462733200   \n",
      "950  2020-10-12  240.120  250.360  238.560  248.800        246.536  480453600   \n",
      "\n",
      "     daily_returns  \n",
      "20        0.060975  \n",
      "397       0.058916  \n",
      "463      -0.066324  \n",
      "498       0.070414  \n",
      "503      -0.099602  \n",
      "521       0.068335  \n",
      "592      -0.058122  \n",
      "792      -0.065373  \n",
      "794       0.093104  \n",
      "799      -0.079092  \n",
      "800       0.072021  \n",
      "802      -0.098750  \n",
      "803       0.119804  \n",
      "804      -0.128650  \n",
      "808      -0.063488  \n",
      "810       0.100331  \n",
      "819       0.087235  \n",
      "900       0.104690  \n",
      "924      -0.080059  \n",
      "926      -0.067296  \n",
      "950       0.063522  \n"
     ]
    }
   ],
   "source": [
    "import pandas as pd\n",
    "import scipy.stats as stats\n",
    "import matplotlib.pyplot as plt\n",
    "\n",
    "stock_data = pd.read_csv(\"ORNG1.csv\")\n",
    "\n",
    "stock_data['daily_returns'] = stock_data['AdjustedClose'].pct_change()\n",
    "print(stock_data.head())\n",
    "\n",
    "stock_data['daily_returns'].plot(kind='hist', bins=30)\n",
    "plt.show()\n",
    "\n",
    "skewness = round(stock_data['daily_returns'].skew(), 2)\n",
    "kurtosis = round(stock_data['daily_returns'].kurt(), 2)\n",
    "print(\"Skewness:\", skewness)\n",
    "print(\"Kurtosis:\", kurtosis)\n",
    "\n",
    "skew_test_result = round(stats.skewtest(stock_data['daily_returns'].dropna()).pvalue, 4)\n",
    "kurtosis_test_result = round(stats.kurtosistest(stock_data['daily_returns'].dropna()).pvalue, 4)\n",
    "print(\"Skewness test p-value:\", skew_test_result)\n",
    "print(\"Kurtosis test p-value:\", kurtosis_test_result)\n",
    "\n",
    "standard_deviation = round(stock_data['daily_returns'].std(), 3)\n",
    "print(\"Standard Deviation:\", standard_deviation)\n",
    "\n",
    "outliers = stock_data[(stock_data['daily_returns'] < (-3 * standard_deviation)) | \n",
    "                      (stock_data['daily_returns'] > (3 * standard_deviation))]\n",
    "print(\"Outliers:\")\n",
    "print(outliers)\n"
   ]
  },
  {
   "cell_type": "code",
   "execution_count": null,
   "id": "f472aeaf",
   "metadata": {},
   "outputs": [],
   "source": []
  }
 ],
 "metadata": {
  "kernelspec": {
   "display_name": "Python 3 (ipykernel)",
   "language": "python",
   "name": "python3"
  },
  "language_info": {
   "codemirror_mode": {
    "name": "ipython",
    "version": 3
   },
   "file_extension": ".py",
   "mimetype": "text/x-python",
   "name": "python",
   "nbconvert_exporter": "python",
   "pygments_lexer": "ipython3",
   "version": "3.11.5"
  }
 },
 "nbformat": 4,
 "nbformat_minor": 5
}
