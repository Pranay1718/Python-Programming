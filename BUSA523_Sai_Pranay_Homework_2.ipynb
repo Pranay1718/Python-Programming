{
 "cells": [
  {
   "cell_type": "code",
   "execution_count": 8,
   "id": "61e84130",
   "metadata": {},
   "outputs": [
    {
     "name": "stdout",
     "output_type": "stream",
     "text": [
      "Enter your Answer: adbbadadac\n",
      "Invalid Input\n",
      "Enter your Answer: adadacdadca\n",
      "Missed Questions: [2, 3, 5, 6, 7, 8, 10, 11]\n",
      "Percentage score: 27.27272727272727\n"
     ]
    }
   ],
   "source": [
    "correct_answers = \"abddcbacdac\"\n",
    "num_correct = 0\n",
    "incorrect_answers = []\n",
    "while True:\n",
    "    user_answers = input(\"Enter your Answer: \")\n",
    "\n",
    "    if len(user_answers) == len(correct_answers):\n",
    "        \n",
    "        for i in range(len(correct_answers)):\n",
    "            if correct_answers[i] == user_answers[i]:\n",
    "                num_correct += 1\n",
    "            else:\n",
    "                incorrect_answers.append(i + 1)\n",
    "\n",
    "        percent_score = (num_correct / len(correct_answers)) * 100\n",
    "\n",
    "        print(\"Missed Questions:\", incorrect_answers)\n",
    "        print(\"Percentage score:\", percent_score)\n",
    "        \n",
    "        break  \n",
    "    else:\n",
    "        print(\"Invalid Input\")\n"
   ]
  },
  {
   "cell_type": "code",
   "execution_count": null,
   "id": "65fb437a",
   "metadata": {},
   "outputs": [],
   "source": []
  }
 ],
 "metadata": {
  "kernelspec": {
   "display_name": "Python 3 (ipykernel)",
   "language": "python",
   "name": "python3"
  },
  "language_info": {
   "codemirror_mode": {
    "name": "ipython",
    "version": 3
   },
   "file_extension": ".py",
   "mimetype": "text/x-python",
   "name": "python",
   "nbconvert_exporter": "python",
   "pygments_lexer": "ipython3",
   "version": "3.11.5"
  }
 },
 "nbformat": 4,
 "nbformat_minor": 5
}
