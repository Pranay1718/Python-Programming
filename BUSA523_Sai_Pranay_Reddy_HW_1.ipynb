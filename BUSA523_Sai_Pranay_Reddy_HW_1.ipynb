{
 "cells": [
  {
   "cell_type": "code",
   "execution_count": 19,
   "id": "91675168",
   "metadata": {},
   "outputs": [
    {
     "name": "stdout",
     "output_type": "stream",
     "text": [
      "Enter the weight in kgs90\n",
      "Enter the height in inches80\n",
      "21.8\n",
      "Normalweight\n"
     ]
    }
   ],
   "source": [
    "weight = float(input(\"Enter the weight in kgs\"))\n",
    "height = float(input(\"Enter the height in inches\"))\n",
    "heightM=height*0.0254\n",
    "bmi= weight/(heightM*heightM)\n",
    "bmi=round(bmi,1)\n",
    "print(bmi)\n",
    "if(bmi<=18.5):\n",
    "    print(\"Underweight\")\n",
    "elif((bmi>18.5)and(bmi<=24.9)):\n",
    "    print(\"Normalweight\")\n",
    "elif((bmi>=25)and(bmi<=29.9)):\n",
    "    print(\"Overweight\")\n",
    "elif(bmi>=30):\n",
    "    print(\"Obesity\")"
   ]
  },
  {
   "cell_type": "code",
   "execution_count": null,
   "id": "34847324",
   "metadata": {},
   "outputs": [],
   "source": []
  },
  {
   "cell_type": "markdown",
   "id": "981135e9",
   "metadata": {},
   "source": []
  },
  {
   "cell_type": "code",
   "execution_count": null,
   "id": "3d422035",
   "metadata": {},
   "outputs": [],
   "source": []
  },
  {
   "cell_type": "code",
   "execution_count": null,
   "id": "a011fd7a",
   "metadata": {},
   "outputs": [],
   "source": []
  }
 ],
 "metadata": {
  "kernelspec": {
   "display_name": "Python 3 (ipykernel)",
   "language": "python",
   "name": "python3"
  },
  "language_info": {
   "codemirror_mode": {
    "name": "ipython",
    "version": 3
   },
   "file_extension": ".py",
   "mimetype": "text/x-python",
   "name": "python",
   "nbconvert_exporter": "python",
   "pygments_lexer": "ipython3",
   "version": "3.11.5"
  }
 },
 "nbformat": 4,
 "nbformat_minor": 5
}
