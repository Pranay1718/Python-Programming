{
 "cells": [
  {
   "cell_type": "code",
   "execution_count": 2,
   "id": "561d1829",
   "metadata": {},
   "outputs": [
    {
     "name": "stdout",
     "output_type": "stream",
     "text": [
      "Enter the first number 456\n",
      "Enter the second number 36\n",
      "The larger number is  456.0\n",
      "The Remainder of 456.0 / 36.0 is 24.0\n",
      "The Smaller number is  36.0\n"
     ]
    }
   ],
   "source": [
    "def FindLarger(arg1, arg2):\n",
    "    if arg1>arg2:\n",
    "        print(\"The larger number is \", arg1)\n",
    "        FindRemainder(arg1, arg2)\n",
    "        return arg2\n",
    "    elif arg1<arg2:\n",
    "        print(\"The larger number is \", arg2)\n",
    "        FindRemainder(arg2, arg1)\n",
    "        return arg1\n",
    "    else:\n",
    "        print(\"Both numbers are equal\")\n",
    "        FindRemainder(arg1, arg2)\n",
    "        return arg1\n",
    "    \n",
    "def FindRemainder(arg1, arg2):\n",
    "    remainder= arg1%arg2\n",
    "    print(\"The Remainder of\",arg1,\"/\",arg2,\"is\",remainder)\n",
    "    \n",
    "arg1 = float(input(\"Enter the first number \"))\n",
    "arg2 = float(input(\"Enter the second number \"))\n",
    "\n",
    "print(\"The Smaller number is \",FindLarger(arg1,arg2))"
   ]
  },
  {
   "cell_type": "code",
   "execution_count": null,
   "id": "e7c91eba",
   "metadata": {},
   "outputs": [],
   "source": []
  },
  {
   "cell_type": "code",
   "execution_count": null,
   "id": "4cc2f982",
   "metadata": {},
   "outputs": [],
   "source": []
  }
 ],
 "metadata": {
  "kernelspec": {
   "display_name": "Python 3 (ipykernel)",
   "language": "python",
   "name": "python3"
  },
  "language_info": {
   "codemirror_mode": {
    "name": "ipython",
    "version": 3
   },
   "file_extension": ".py",
   "mimetype": "text/x-python",
   "name": "python",
   "nbconvert_exporter": "python",
   "pygments_lexer": "ipython3",
   "version": "3.11.5"
  }
 },
 "nbformat": 4,
 "nbformat_minor": 5
}
