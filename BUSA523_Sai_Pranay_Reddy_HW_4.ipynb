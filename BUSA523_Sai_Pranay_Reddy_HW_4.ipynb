{
 "cells": [
  {
   "cell_type": "code",
   "execution_count": 7,
   "id": "5654144e",
   "metadata": {},
   "outputs": [
    {
     "name": "stdout",
     "output_type": "stream",
     "text": [
      "Enter the number of list 3\n",
      "Enter the number of list elements 4\n",
      "[[0, 0, 0, 0], [0, 0, 0, 0], [0, 0, 0, 0]]\n"
     ]
    }
   ],
   "source": [
    "x= int(input(\"Enter the number of list \"))\n",
    "y=int(input(\"Enter the number of list elements \"))\n",
    "\n",
    "if x<=5 and x>=1 and y<=5 and y>=1:\n",
    "    \n",
    "    outer_list=[]\n",
    "    for i in range(x):\n",
    "        inner_list=[]\n",
    "        for j in range(y):\n",
    "            inner_list.append(0)\n",
    "        outer_list.append(inner_list)\n",
    "    print(outer_list)\n",
    "else:\n",
    "    print(\"Invalid input\")\n",
    "    "
   ]
  },
  {
   "cell_type": "code",
   "execution_count": null,
   "id": "8f5173fe",
   "metadata": {},
   "outputs": [],
   "source": []
  }
 ],
 "metadata": {
  "kernelspec": {
   "display_name": "Python 3 (ipykernel)",
   "language": "python",
   "name": "python3"
  },
  "language_info": {
   "codemirror_mode": {
    "name": "ipython",
    "version": 3
   },
   "file_extension": ".py",
   "mimetype": "text/x-python",
   "name": "python",
   "nbconvert_exporter": "python",
   "pygments_lexer": "ipython3",
   "version": "3.11.5"
  }
 },
 "nbformat": 4,
 "nbformat_minor": 5
}
