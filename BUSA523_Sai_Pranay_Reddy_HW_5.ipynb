{
 "cells": [
  {
   "cell_type": "code",
   "execution_count": 10,
   "id": "69569455",
   "metadata": {},
   "outputs": [],
   "source": [
    "\n",
    "def main():\n",
    "    try:\n",
    "        with open('First.txt', 'r') as file1:\n",
    "            first_numbers = [int(num) for num in file1.read().split(', ')]\n",
    "\n",
    "        with open('Second.txt', 'r') as file2:\n",
    "            second_numbers = [int(line.strip()) for line in file2 if line.strip()]\n",
    "\n",
    "        with open('Third.txt', 'w') as output_file:\n",
    "            for num1 in first_numbers:\n",
    "                output_file.write(f\"For the number {num1} we have:\")\n",
    "                for num2 in second_numbers:\n",
    "                    try:\n",
    "                        quo,rem = divmod(num1,num2)\n",
    "                        output_file.write(f\" {rem},\")\n",
    "                    except ZeroDivisionError:\n",
    "                        output_file.write(\" Divide by 0 encountered,\")\n",
    "                output_file.write(\"\\n\")\n",
    "\n",
    "    except FileNotFoundError:\n",
    "        print(\"Error: One or both input files not found.\")\n",
    "    except Exception as e:\n",
    "        print(f\"An unexpected error occurred: {e}\")\n",
    "if __name__ == \"__main__\":\n",
    "    main()"
   ]
  },
  {
   "cell_type": "code",
   "execution_count": null,
   "id": "60ded923",
   "metadata": {},
   "outputs": [],
   "source": []
  },
  {
   "cell_type": "code",
   "execution_count": null,
   "id": "d1d5bc9c",
   "metadata": {},
   "outputs": [],
   "source": []
  }
 ],
 "metadata": {
  "kernelspec": {
   "display_name": "Python 3 (ipykernel)",
   "language": "python",
   "name": "python3"
  },
  "language_info": {
   "codemirror_mode": {
    "name": "ipython",
    "version": 3
   },
   "file_extension": ".py",
   "mimetype": "text/x-python",
   "name": "python",
   "nbconvert_exporter": "python",
   "pygments_lexer": "ipython3",
   "version": "3.11.5"
  }
 },
 "nbformat": 4,
 "nbformat_minor": 5
}
