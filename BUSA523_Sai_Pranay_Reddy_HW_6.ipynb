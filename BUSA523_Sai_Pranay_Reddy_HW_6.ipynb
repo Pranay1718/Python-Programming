{
 "cells": [
  {
   "cell_type": "code",
   "execution_count": 6,
   "id": "621a4ba3",
   "metadata": {},
   "outputs": [
    {
     "name": "stdout",
     "output_type": "stream",
     "text": [
      "Employees Data: [{'Name': 'John Mckee', 'Age': 38, 'Department': 'Sales'}, {'Name': 'Lisa Crawford', 'Age': 29, 'Department': 'Marketing'}, {'Name': 'Sujan Patel', 'Age': 33, 'Department': 'HR'}]\n",
      "\n",
      "Details of All Employees:\n",
      "Name: John Mckee, Age: 38, Department: Sales\n",
      "Name: Lisa Crawford, Age: 29, Department: Marketing\n",
      "Name: Sujan Patel, Age: 33, Department: HR\n",
      "\n",
      "Details of Sujan Patel:\n",
      "Name: Sujan Patel, Age: 33, Department: HR\n"
     ]
    }
   ],
   "source": [
    "def main():\n",
    "\n",
    "    # list named employees with three dictionary objects\n",
    "    employees = [\n",
    "        {\"Name\": \"John Mckee\", \"Age\": 38, \"Department\": \"Sales\"},\n",
    "        {\"Name\": \"Lisa Crawford\", \"Age\": 29, \"Department\": \"Marketing\"},\n",
    "        {\"Name\": \"Sujan Patel\", \"Age\": 33, \"Department\": \"HR\"}\n",
    "    ]\n",
    "\n",
    "    #PRINT 1:  Print the variable: \"employees\"\n",
    "    print(f\"Employees Data: {employees}\")\n",
    "\n",
    "    # PRINT 2: Print the details of all employees in a presentable format\n",
    "    print(\"\\nDetails of All Employees:\")\n",
    "    for emp in employees:\n",
    "        print(f\"Name: {emp['Name']}, Age: {emp['Age']}, Department: {emp['Department']}\")\n",
    "\n",
    "    #PRINT 3 : Print only the details of Sujan Patel\n",
    "    print(\"\\nDetails of Sujan Patel:\")\n",
    "    sujan_details = [employee for employee in employees if employee['Name'] == \"Sujan Patel\"][0]\n",
    "    print(f\"Name: {sujan_details['Name']}, Age: {sujan_details['Age']}, Department: {sujan_details['Department']}\")\n",
    "\n",
    "if __name__ == \"__main__\":\n",
    "    main()"
   ]
  },
  {
   "cell_type": "code",
   "execution_count": null,
   "id": "420a61c3",
   "metadata": {},
   "outputs": [],
   "source": []
  }
 ],
 "metadata": {
  "kernelspec": {
   "display_name": "Python 3 (ipykernel)",
   "language": "python",
   "name": "python3"
  },
  "language_info": {
   "codemirror_mode": {
    "name": "ipython",
    "version": 3
   },
   "file_extension": ".py",
   "mimetype": "text/x-python",
   "name": "python",
   "nbconvert_exporter": "python",
   "pygments_lexer": "ipython3",
   "version": "3.11.5"
  }
 },
 "nbformat": 4,
 "nbformat_minor": 5
}
